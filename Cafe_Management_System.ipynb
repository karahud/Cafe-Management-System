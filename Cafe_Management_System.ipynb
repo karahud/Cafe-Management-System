{
  "nbformat": 4,
  "nbformat_minor": 0,
  "metadata": {
    "colab": {
      "provenance": [],
      "authorship_tag": "ABX9TyMhQK6JjDjwfkv/UiVbFl/4",
      "include_colab_link": true
    },
    "kernelspec": {
      "name": "python3",
      "display_name": "Python 3"
    },
    "language_info": {
      "name": "python"
    }
  },
  "cells": [
    {
      "cell_type": "markdown",
      "metadata": {
        "id": "view-in-github",
        "colab_type": "text"
      },
      "source": [
        "<a href=\"https://colab.research.google.com/github/karahud/Cafe-Management-System/blob/main/Cafe_Management_System.ipynb\" target=\"_parent\"><img src=\"https://colab.research.google.com/assets/colab-badge.svg\" alt=\"Open In Colab\"/></a>"
      ]
    },
    {
      "cell_type": "code",
      "source": [
        "menu = {\n",
        "    'pizza' : 90,\n",
        "    'burger' : 70,\n",
        "    'sandwich' : 70,\n",
        "    'maggie' : 50,\n",
        "    'dahi samosa' : 30,\n",
        "    'pyaj kachori' : 30\n",
        "}\n",
        "\n",
        "# Creating a variable to store total amount\n",
        "grand_total = 0\n",
        "\n",
        "# Welcome message for the customer\n",
        "print(\"Welcome to the Duggya's Cafe!\")\n",
        "print('')\n",
        "print(\"Here is the menu:\")\n",
        "for item, price in menu.items():\n",
        "  print(f'{item} - \\t₹{price}')\n",
        "\n",
        "\n",
        "def place_order():\n",
        "  global grand_total\n",
        "  repeat = 'y'\n",
        "  while repeat == \"y\":\n",
        "    item_1 = input(\"\\nEnter the item you want to order: \")\n",
        "\n",
        "    if item_1 in menu:\n",
        "      quantity = int(input(\"Enter the quantity: \"))\n",
        "      price = menu[item_1]\n",
        "      total = price * quantity\n",
        "      grand_total+= total\n",
        "      print(f'Your total as of now is ₹{grand_total}')\n",
        "    else:\n",
        "      print('Sorry, this item is not available now, please order something else.')\n",
        "\n",
        "    repeat = input('Any other item you want to order (\"y\" or \"n\"): ')\n",
        "\n",
        "place_order()\n",
        "print(f\"\\nThank You for oredering the food\\nYour total amount is: {grand_total}\\nhave patience while we prepare your order\")"
      ],
      "metadata": {
        "colab": {
          "base_uri": "https://localhost:8080/"
        },
        "id": "ADYeC4Mbeoaw",
        "outputId": "d3e82a8a-df5a-425f-ac0e-4ab4688b3624"
      },
      "execution_count": 6,
      "outputs": [
        {
          "output_type": "stream",
          "name": "stdout",
          "text": [
            "Welcome to the Duggya's Cafe!\n",
            "\n",
            "Here is the menu:\n",
            "pizza - \t₹90\n",
            "burger - \t₹70\n",
            "sandwich - \t₹70\n",
            "maggie - \t₹50\n",
            "dahi samosa - \t₹30\n",
            "pyaj kachori - \t₹30\n",
            "\n",
            "Enter the item you want to order: pizza\n",
            "Enter the quantity: 1\n",
            "Your total as of now is ₹90\n",
            "Any other item you want to order (\"y\" or \"n\"): n\n",
            "\n",
            "Thank You for oredering the food\n",
            "Your total amount is: 90\n",
            "have patience while we prepare your order\n"
          ]
        }
      ]
    }
  ]
}