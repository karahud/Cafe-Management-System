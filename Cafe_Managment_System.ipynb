{
  "nbformat": 4,
  "nbformat_minor": 0,
  "metadata": {
    "colab": {
      "provenance": [],
      "authorship_tag": "ABX9TyM3BzKexQXGbFX2qbrWUMim"
    },
    "kernelspec": {
      "name": "python3",
      "display_name": "Python 3"
    },
    "language_info": {
      "name": "python"
    }
  },
  "cells": [
    {
      "cell_type": "code",
      "source": [
        "# Cafe Managment System Using Python\n",
        "\n",
        "#Creating a menu card using dictionary\n",
        "menu = {\n",
        "    'pizza': 90,\n",
        "    'burger': 70,\n",
        "    'sandwich': 70,\n",
        "    'maggie': 50,\n",
        "    'dahi samosa': 30,\n",
        "    'pyaj kachori': 30\n",
        "}\n",
        "\n",
        "# Creating a variable to store total amount\n",
        "grand_total = 0\n",
        "\n",
        "# Welcome message for the customer\n",
        "print(\"Welcome to Duggya's Cafe!\\n\")\n",
        "print(\"Here is the menu:\")\n",
        "for item, price in menu.items():\n",
        "    print(f'{item.capitalize()} - \\t₹{price}') # Display menu items with prices\n",
        "\n",
        "# Function to take customer orders\n",
        "def place_order():\n",
        "    global grand_total\n",
        "    while True:  # Loop to allow multiple orders\n",
        "        item_1 = input(\"\\nEnter the item you want to order: \").strip().lower() # Asking customer for the item\n",
        "\n",
        "        if item_1 in menu:\n",
        "          # Using exception block to check customer should only enter valid integer value to put quantity\n",
        "            try:\n",
        "                quantity = int(input(\"Enter the quantity: \").strip())\n",
        "                if quantity <= 0:\n",
        "                    print(\"Quantity should be at least 1.\")\n",
        "                    continue\n",
        "\n",
        "                price = menu[item_1]  # Get the price of the item\n",
        "                total = price * quantity  # Calculate total price for the selected item\n",
        "                grand_total += total  # Add the total to the grand total\n",
        "                print(f'Your total as of now is ₹{grand_total}')\n",
        "            except ValueError:\n",
        "                print(\"Please enter a valid number for quantity.\")\n",
        "                continue # Restart the loop for valid input\n",
        "        else:\n",
        "            print(\"Sorry, this item is not available now. Please order something else.\") # Show message if the item not availble in menu\n",
        "\n",
        "        repeat = input('Any other item you want to order? (y/n): ').strip().lower() # Asking if the user wants to order more items\n",
        "        if repeat not in ['y', 'yes']: # If the user enters anything other than 'y' or 'yes', exit loop\n",
        "            break\n",
        "# Calling function\n",
        "place_order()\n",
        "\n",
        "# Printing final message\n",
        "print(f\"\\nThank you for ordering! Your total amount is: ₹{grand_total}\\nPlease have patience while we prepare your order.\")"
      ],
      "metadata": {
        "colab": {
          "base_uri": "https://localhost:8080/"
        },
        "id": "ADYeC4Mbeoaw",
        "outputId": "01ae39ab-a9ab-44f5-ec88-74783daa5598"
      },
      "execution_count": 9,
      "outputs": [
        {
          "output_type": "stream",
          "name": "stdout",
          "text": [
            "Welcome to Duggya's Cafe!\n",
            "\n",
            "Here is the menu:\n",
            "Pizza - \t₹90\n",
            "Burger - \t₹70\n",
            "Sandwich - \t₹70\n",
            "Maggie - \t₹50\n",
            "Dahi samosa - \t₹30\n",
            "Pyaj kachori - \t₹30\n",
            "\n",
            "Enter the item you want to order: pizza\n",
            "Enter the quantity: 1\n",
            "Your total as of now is ₹90\n",
            "Any other item you want to order? (y/n): y\n",
            "\n",
            "Enter the item you want to order: burger\n",
            "Enter the quantity: 1\n",
            "Your total as of now is ₹160\n",
            "Any other item you want to order? (y/n): y\n",
            "\n",
            "Enter the item you want to order: maggie\n",
            "Enter the quantity: 1\n",
            "Your total as of now is ₹210\n",
            "Any other item you want to order? (y/n): y\n",
            "\n",
            "Enter the item you want to order: sandwich\n",
            "Enter the quantity: 1\n",
            "Your total as of now is ₹280\n",
            "Any other item you want to order? (y/n): y\n",
            "\n",
            "Enter the item you want to order: dahi samosa\n",
            "Enter the quantity: 1\n",
            "Your total as of now is ₹310\n",
            "Any other item you want to order? (y/n): n\n",
            "\n",
            "Thank you for ordering! Your total amount is: ₹310\n",
            "Please have patience while we prepare your order.\n"
          ]
        }
      ]
    }
  ]
}