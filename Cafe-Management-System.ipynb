{
  "nbformat": 4,
  "nbformat_minor": 0,
  "metadata": {
    "colab": {
      "provenance": [],
      "authorship_tag": "ABX9TyP2Ouo1CCOVLXICy6KrkhAg",
      "include_colab_link": true
    },
    "kernelspec": {
      "name": "python3",
      "display_name": "Python 3"
    },
    "language_info": {
      "name": "python"
    }
  },
  "cells": [
    {
      "cell_type": "markdown",
      "metadata": {
        "id": "view-in-github",
        "colab_type": "text"
      },
      "source": [
        "<a href=\"https://colab.research.google.com/github/karahud/Cafe-Management-System/blob/main/Cafe-Management-System.ipynb\" target=\"_parent\"><img src=\"https://colab.research.google.com/assets/colab-badge.svg\" alt=\"Open In Colab\"/></a>"
      ]
    },
    {
      "cell_type": "code",
      "source": [
        "menu = {\n",
        "    'pizza' : 90,\n",
        "    'burger' : 70,\n",
        "    'sandwich' : 70,\n",
        "    'maggie' : 50,\n",
        "    'dahi samosa' : 30,\n",
        "    'pyaj kachori' : 30\n",
        "}\n",
        "\n",
        "# Creating a variable to store total amount\n",
        "\n",
        "grand_total = 0\n",
        "\n",
        "# Welcome message for the customer\n",
        "print(\"Welcome to the Duggya's Cafe!\")\n",
        "print('')\n",
        "print(\"Here is the menu:\")\n",
        "for item, price in menu.items():\n",
        "  print(f'{item} - \\t₹{price}')\n",
        "\n",
        "\n",
        "def place_order():\n",
        "  global grand_total\n",
        "  repeat = 'y'\n",
        "  while repeat == \"y\":\n",
        "    item_1 = input(\"\\nEnter the item you want to order: \")\n",
        "\n",
        "    if item_1 in menu:\n",
        "      quantity = int(input(\"Enter the quantity: \"))\n",
        "      price = menu[item_1]\n",
        "      total = price * quantity\n",
        "      grand_total+= total\n",
        "      print(f'Your total as of now is ₹{grand_total}')\n",
        "    else:\n",
        "      print('Sorry, this item is not available now, please order something else.')\n",
        "\n",
        "    repeat = input('Any other item you want to order (\"y\" or \"n\"): ')\n",
        "\n",
        "place_order()\n",
        "print(f\"\\nThank You for oredering the food\\nYour total amount is: {grand_total}\\nHave patience while we prepare your order\")"
      ],
      "metadata": {
        "colab": {
          "base_uri": "https://localhost:8080/"
        },
        "id": "ADYeC4Mbeoaw",
        "outputId": "ec679647-30de-464f-924f-891a36db6559"
      },
      "execution_count": 8,
      "outputs": [
        {
          "output_type": "stream",
          "name": "stdout",
          "text": [
            "Welcome to the Duggya's Cafe!\n",
            "\n",
            "Here is the menu:\n",
            "pizza - \t₹90\n",
            "burger - \t₹70\n",
            "sandwich - \t₹70\n",
            "maggie - \t₹50\n",
            "dahi samosa - \t₹30\n",
            "pyaj kachori - \t₹30\n",
            "\n",
            "Enter the item you want to order: pizza\n",
            "Enter the quantity: 1\n",
            "Your total as of now is ₹90\n",
            "Any other item you want to order (\"y\" or \"n\"): y\n",
            "\n",
            "Enter the item you want to order: burger\n",
            "Enter the quantity: 1\n",
            "Your total as of now is ₹160\n",
            "Any other item you want to order (\"y\" or \"n\"): y\n",
            "\n",
            "Enter the item you want to order: maggie\n",
            "Enter the quantity: 2\n",
            "Your total as of now is ₹260\n",
            "Any other item you want to order (\"y\" or \"n\"): y\n",
            "\n",
            "Enter the item you want to order: sandwich\n",
            "Enter the quantity: 1\n",
            "Your total as of now is ₹330\n",
            "Any other item you want to order (\"y\" or \"n\"): n\n",
            "\n",
            "Thank You for oredering the food\n",
            "Your total amount is: 330\n",
            "Have patience while we prepare your order\n"
          ]
        }
      ]
    }
  ]
}
